{
 "cells": [
  {
   "cell_type": "code",
   "execution_count": 6,
   "id": "00119c16",
   "metadata": {},
   "outputs": [
    {
     "data": {
      "text/html": [
       "<div>\n",
       "<style scoped>\n",
       "    .dataframe tbody tr th:only-of-type {\n",
       "        vertical-align: middle;\n",
       "    }\n",
       "\n",
       "    .dataframe tbody tr th {\n",
       "        vertical-align: top;\n",
       "    }\n",
       "\n",
       "    .dataframe thead th {\n",
       "        text-align: right;\n",
       "    }\n",
       "</style>\n",
       "<table border=\"1\" class=\"dataframe\">\n",
       "  <thead>\n",
       "    <tr style=\"text-align: right;\">\n",
       "      <th></th>\n",
       "      <th>place_name</th>\n",
       "      <th>review</th>\n",
       "    </tr>\n",
       "  </thead>\n",
       "  <tbody>\n",
       "    <tr>\n",
       "      <th>0</th>\n",
       "      <td>이호테우해수욕장</td>\n",
       "      <td>말 필요 없음</td>\n",
       "    </tr>\n",
       "    <tr>\n",
       "      <th>1</th>\n",
       "      <td>이호테우해수욕장</td>\n",
       "      <td>이호테우 해변 비오는 날 방문했는데 운치있고 넘 좋네요!!!!</td>\n",
       "    </tr>\n",
       "    <tr>\n",
       "      <th>2</th>\n",
       "      <td>이호테우해수욕장</td>\n",
       "      <td>좋았어요 ㅎㅎ 말등대도보공</td>\n",
       "    </tr>\n",
       "    <tr>\n",
       "      <th>3</th>\n",
       "      <td>이호테우해수욕장</td>\n",
       "      <td>귀여운 말등대가 있는 해수욕장🪅아이들 놀기 좋은 해수풀장이 있어요~</td>\n",
       "    </tr>\n",
       "    <tr>\n",
       "      <th>4</th>\n",
       "      <td>이호테우해수욕장</td>\n",
       "      <td>제주도 마지막 여행지</td>\n",
       "    </tr>\n",
       "    <tr>\n",
       "      <th>...</th>\n",
       "      <td>...</td>\n",
       "      <td>...</td>\n",
       "    </tr>\n",
       "    <tr>\n",
       "      <th>4186</th>\n",
       "      <td>해거름마을공원</td>\n",
       "      <td>풍경 좋아요 잠깐 쉬어가기 좋은 카페도 있어요</td>\n",
       "    </tr>\n",
       "    <tr>\n",
       "      <th>4187</th>\n",
       "      <td>노형근린공원</td>\n",
       "      <td>공원 강아지랑 걷기도 좋고 넓고 숲도 많아서 자연구경 딱좋아요</td>\n",
       "    </tr>\n",
       "    <tr>\n",
       "      <th>4188</th>\n",
       "      <td>서복공원</td>\n",
       "      <td>조금 아쉽네요</td>\n",
       "    </tr>\n",
       "    <tr>\n",
       "      <th>4189</th>\n",
       "      <td>서복공원</td>\n",
       "      <td>정방폭포 봤다면 여기까지 둘러보기~ 정원 굿~~</td>\n",
       "    </tr>\n",
       "    <tr>\n",
       "      <th>4190</th>\n",
       "      <td>수운근린공원</td>\n",
       "      <td>윗몸일으키기 시설이 있어서 좋아요.</td>\n",
       "    </tr>\n",
       "  </tbody>\n",
       "</table>\n",
       "<p>4191 rows × 2 columns</p>\n",
       "</div>"
      ],
      "text/plain": [
       "     place_name                                 review\n",
       "0      이호테우해수욕장                                말 필요 없음\n",
       "1      이호테우해수욕장     이호테우 해변 비오는 날 방문했는데 운치있고 넘 좋네요!!!!\n",
       "2      이호테우해수욕장                         좋았어요 ㅎㅎ 말등대도보공\n",
       "3      이호테우해수욕장  귀여운 말등대가 있는 해수욕장🪅아이들 놀기 좋은 해수풀장이 있어요~\n",
       "4      이호테우해수욕장                            제주도 마지막 여행지\n",
       "...         ...                                    ...\n",
       "4186    해거름마을공원              풍경 좋아요 잠깐 쉬어가기 좋은 카페도 있어요\n",
       "4187     노형근린공원     공원 강아지랑 걷기도 좋고 넓고 숲도 많아서 자연구경 딱좋아요\n",
       "4188       서복공원                                조금 아쉽네요\n",
       "4189       서복공원             정방폭포 봤다면 여기까지 둘러보기~ 정원 굿~~\n",
       "4190     수운근린공원                    윗몸일으키기 시설이 있어서 좋아요.\n",
       "\n",
       "[4191 rows x 2 columns]"
      ]
     },
     "execution_count": 6,
     "metadata": {},
     "output_type": "execute_result"
    }
   ],
   "source": [
    "import pandas as pd\n",
    "a = pd.read_csv('./place_reviews.csv', encoding='utf-8')\n",
    "a"
   ]
  },
  {
   "cell_type": "code",
   "execution_count": 3,
   "id": "4937dd1b",
   "metadata": {},
   "outputs": [
    {
     "data": {
      "application/vnd.jupyter.widget-view+json": {
       "model_id": "c13b3c5b514b4ab480473b3453aef10b",
       "version_major": 2,
       "version_minor": 0
      },
      "text/plain": [
       "Downloading (…)925a9/.gitattributes:   0%|          | 0.00/690 [00:00<?, ?B/s]"
      ]
     },
     "metadata": {},
     "output_type": "display_data"
    },
    {
     "data": {
      "application/vnd.jupyter.widget-view+json": {
       "model_id": "eadfaaca033e42aea5f442e214241657",
       "version_major": 2,
       "version_minor": 0
      },
      "text/plain": [
       "Downloading (…)_Pooling/config.json:   0%|          | 0.00/190 [00:00<?, ?B/s]"
      ]
     },
     "metadata": {},
     "output_type": "display_data"
    },
    {
     "data": {
      "application/vnd.jupyter.widget-view+json": {
       "model_id": "98a3e738d8a3404d90d62a4cc34ea99c",
       "version_major": 2,
       "version_minor": 0
      },
      "text/plain": [
       "Downloading (…)1a515925a9/README.md:   0%|          | 0.00/3.99k [00:00<?, ?B/s]"
      ]
     },
     "metadata": {},
     "output_type": "display_data"
    },
    {
     "data": {
      "application/vnd.jupyter.widget-view+json": {
       "model_id": "506edb9423084c72865d2380131136f2",
       "version_major": 2,
       "version_minor": 0
      },
      "text/plain": [
       "Downloading (…)515925a9/config.json:   0%|          | 0.00/550 [00:00<?, ?B/s]"
      ]
     },
     "metadata": {},
     "output_type": "display_data"
    },
    {
     "data": {
      "application/vnd.jupyter.widget-view+json": {
       "model_id": "f9bdffeba068464f8e512dbdebcea3de",
       "version_major": 2,
       "version_minor": 0
      },
      "text/plain": [
       "Downloading (…)ce_transformers.json:   0%|          | 0.00/122 [00:00<?, ?B/s]"
      ]
     },
     "metadata": {},
     "output_type": "display_data"
    },
    {
     "data": {
      "application/vnd.jupyter.widget-view+json": {
       "model_id": "e7f6a245e46f4ed490d165f9201e9628",
       "version_major": 2,
       "version_minor": 0
      },
      "text/plain": [
       "Downloading pytorch_model.bin:   0%|          | 0.00/265M [00:00<?, ?B/s]"
      ]
     },
     "metadata": {},
     "output_type": "display_data"
    },
    {
     "data": {
      "application/vnd.jupyter.widget-view+json": {
       "model_id": "e850245a6a21474587689b73e0c6203c",
       "version_major": 2,
       "version_minor": 0
      },
      "text/plain": [
       "Downloading (…)nce_bert_config.json:   0%|          | 0.00/53.0 [00:00<?, ?B/s]"
      ]
     },
     "metadata": {},
     "output_type": "display_data"
    },
    {
     "data": {
      "application/vnd.jupyter.widget-view+json": {
       "model_id": "fc4c6daf4ee6421b9d49c7cac75db52a",
       "version_major": 2,
       "version_minor": 0
      },
      "text/plain": [
       "Downloading (…)cial_tokens_map.json:   0%|          | 0.00/112 [00:00<?, ?B/s]"
      ]
     },
     "metadata": {},
     "output_type": "display_data"
    },
    {
     "data": {
      "application/vnd.jupyter.widget-view+json": {
       "model_id": "0d0906287b0046e4b2989a1a5bc65bfb",
       "version_major": 2,
       "version_minor": 0
      },
      "text/plain": [
       "Downloading (…)925a9/tokenizer.json:   0%|          | 0.00/466k [00:00<?, ?B/s]"
      ]
     },
     "metadata": {},
     "output_type": "display_data"
    },
    {
     "data": {
      "application/vnd.jupyter.widget-view+json": {
       "model_id": "d26ffd1d26d94b5592d654ce0211754c",
       "version_major": 2,
       "version_minor": 0
      },
      "text/plain": [
       "Downloading (…)okenizer_config.json:   0%|          | 0.00/450 [00:00<?, ?B/s]"
      ]
     },
     "metadata": {},
     "output_type": "display_data"
    },
    {
     "data": {
      "application/vnd.jupyter.widget-view+json": {
       "model_id": "f2fa32df0cbf4bc0a297e9bb68bbfea9",
       "version_major": 2,
       "version_minor": 0
      },
      "text/plain": [
       "Downloading (…)1a515925a9/vocab.txt:   0%|          | 0.00/232k [00:00<?, ?B/s]"
      ]
     },
     "metadata": {},
     "output_type": "display_data"
    },
    {
     "data": {
      "application/vnd.jupyter.widget-view+json": {
       "model_id": "d76e6ae8ed0444278d2cccfda7cd82ff",
       "version_major": 2,
       "version_minor": 0
      },
      "text/plain": [
       "Downloading (…)15925a9/modules.json:   0%|          | 0.00/229 [00:00<?, ?B/s]"
      ]
     },
     "metadata": {},
     "output_type": "display_data"
    },
    {
     "name": "stderr",
     "output_type": "stream",
     "text": [
      "C:\\Users\\lhe33\\anaconda3\\lib\\site-packages\\sklearn\\feature_extraction\\text.py:396: UserWarning: Your stop_words may be inconsistent with your preprocessing. Tokenizing the stop words generated tokens ['ㅎㅎ'] not in stop_words.\n",
      "  warnings.warn(\n"
     ]
    },
    {
     "name": "stdout",
     "output_type": "stream",
     "text": [
      "기타: 1514개\n",
      "청량한: 61개\n",
      "편안한: 34개\n",
      "힐링: 108개\n",
      "아늑한: 594개\n",
      "감성적인: 519개\n",
      "활기찬: 325개\n",
      "리조트: 9개\n",
      "인스타감성: 156개\n",
      "분위기: 320개\n",
      "고요한: 151개\n",
      "자연친화적인: 79개\n",
      "도시적인: 27개\n",
      "모험적인: 103개\n",
      "로맨틱: 98개\n",
      "현대적인: 39개\n",
      "세계적인: 2개\n",
      "아이와 함께: 5개\n",
      "화려한: 31개\n",
      "아트: 9개\n",
      "스포티한: 2개\n",
      "배움: 2개\n",
      "건강한: 3개\n"
     ]
    }
   ],
   "source": [
    "import numpy as np\n",
    "import pandas as pd\n",
    "import matplotlib.pyplot as plt\n",
    "from keybert import KeyBERT\n",
    "from sklearn.feature_extraction.text import CountVectorizer\n",
    "from collections import defaultdict\n",
    "\n",
    "# CSV 파일 불러오기\n",
    "df = pd.read_csv('./place_reviews.csv', encoding='utf-8')\n",
    "\n",
    "stopwords = set([\"의\", \"가\", \"이\", \"은\", \"들\", \"는\", \"좀\", \"잘\", \"걍\", \"과\", \"도\", \"를\", \"으로\", \"자\", \"에\", \"와\", \"한\", \"하다\", \"진짜\", \"여기\", \"너무\", \"youtu\", \"https\", \"좋아요\", \"좋고\", \"좋습니다\",\n",
    "                 \"없어요\", \"엄청\", \"많이\", \"정말\", \"ㅎㅎ \" ,\"매우\", \"좋음\", \"코로나\", \"없음\", \"갑니다\", \"ㅋㅋ\", \"ㅠㅠ\",\n",
    "                 \"같아요\", \"많고\", \"매우\", \"좋았어요\", \"있어서\", \"좋은\", \"있는\"])\n",
    "\n",
    "# 토픽-키워드 매핑 사전\n",
    "topic_keywords = {\n",
    "    \"분위기\": [\"분위기\", \"카페\", \"음악\", \"조명\", \"인테리어\"],\n",
    "    \"로맨틱\": [\"캔들\", \"와인\", \"재즈\", \"수영장\", \"밤하늘\"],\n",
    "    \"화려한\": [\"불빛\", \"무대\", \"파티\", \"음악\", \"공연\"],\n",
    "    \"아늑한\": [\"벽난로\", \"깔끔한 인테리어\", \"쿠션\", \"차\", \"책\"],\n",
    "    \"모험적인\": [\"극한 스포츠\", \"야생동물\", \"체험\", \"캠핑\", \"모험\"],\n",
    "    \"신비로운\": [\"신비로운 풍경\", \"초승달\", \"천체 관측\", \"고대 유적지\", \"미스터리\"],\n",
    "    \"편안한\": [\"해변 의자\", \"휴양지\", \"해먹\", \"해수욕\", \"마사지\"],\n",
    "    \"현대적인\": [\"스카이라인\", \"건축\", \"미술관\", \"박물관\", \"고급 호텔\"],\n",
    "    \"고요한\": [\"계곡\", \"폭포\", \"산\", \"호수\", \"산책\"],\n",
    "    \"전통적인\": [\"역사적인 건물\", \"민속 마을\", \"문화 축제\", \"전통적인 요리\", \"전통적인 예술\"],\n",
    "    \"활기찬\": [\"클럽\", \"음악 축제\", \"시장\", \"바\", \"스포츠 경기\"],\n",
    "    \"이국적인\":[\"이국적인 해변\", \"국립공원\", \"이국적인 도시\", \"적도 국가\", \"사막\"],\n",
    "    \"로컬한\": [\"로컬 음식\", \"로컬 시장\", \"지역 축제\", \"지역 예술\", \"지역 건축\"],\n",
    "    \"청량한\": [\"산악 지대\", \"해변\", \"하천\", \"산책로\", \"공원\"],\n",
    "    \"친환경적인\": [\"생태 관광\", \"친환경 호텔\", \"자연 보호\", \"지속 가능한 여행\", \"친환경적인 운송수단\"],\n",
    "    \"힐링\": [\"힐링\", \"휴식\", \"여행\", \"휴가\", \"산책\"],\n",
    "    \"인스타감성\": [\"인스타\", \"사진\", \"셀카\", \"감성\", \"포토\"],\n",
    "    \"자연친화적인\": [\"자연\", \"숲\", \"나무\", \"야생화\", \"생태계\"],\n",
    "    \"감성적인\": [\"분위기\", \"예술\", \"영화\", \"작은 카페\", \"시\"],\n",
    "    \"레트로\": [\"빈티지\", \"올드스쿨\", \"LP 바\", \"키치\", \"고전적인\"],\n",
    "    \"다채로운\": [\"다양한 문화\", \"음식 체험\", \"예술\", \"색다른 경험\", \"다양한 사람들\"],\n",
    "    \"세계적인\": [\"유네스코\", \"세계 유산\", \"세계적인 명소\", \"역사\", \"기념물\"],\n",
    "    \"스포티한\": [\"스포츠\", \"트레킹\", \"라이딩\", \"요가\", \"헬스\"],\n",
    "    \"명상적인\": [\"명상\", \"요가\", \"휴식\", \"조용한 공간\", \"자기 성찰\"],\n",
    "    \"역사적인\": [\"역사\", \"유적\", \"문화재\", \"국립 박물관\", \"고고학\"],\n",
    "    \"아트\": [\"갤러리\", \"예술\", \"뮤지엄\", \"아티스트\", \"공예\"],\n",
    "    \"리조트\": [\"스파\", \"휴양\", \"풀장\", \"리조트 호텔\", \"레져\"],\n",
    "    \"도시적인\": [\"도시 탐험\", \"번화가\", \"쇼핑\", \"맛집\", \"영화관\"],\n",
    "    \"농촌적인\": [\"농촌\", \"전원 마을\", \"농장 체험\", \"가족 여행\", \"자연과 함께\"],\n",
    "    \"학문적인\": [\"학문\", \"도서관\", \"강연\", \"학술 세미나\", \"연구 기관\"],\n",
    "    \"아이와 함께\": [\"아이와\", \"놀이공원\", \"가족 여행\", \"어린이 박물관\", \"동물원\"],\n",
    "    \"배움\": [\"체험\", \"장인\", \"워크샵\", \"전통 기술\", \"문화 교류\"],\n",
    "    \"건강한\": [\"웰니스\", \"건강\", \"스파\", \"온천\", \"디톡스\"]\n",
    "}\n",
    "\n",
    "# 토픽별 리뷰 카운트를 저장할 딕셔너리\n",
    "topic_counts = defaultdict(int)\n",
    "\n",
    "# 리뷰 데이터 추출 및 키워드 추출\n",
    "reviews = df['review'].tolist()\n",
    "\n",
    "# KeyBERT 모델 초기화\n",
    "model = KeyBERT('distilbert-base-nli-mean-tokens')\n",
    "\n",
    "# 리뷰 데이터에서 키워드 추출\n",
    "keywords = model.extract_keywords(\" \".join(reviews), keyphrase_ngram_range=(1, 1), stop_words=stopwords)\n",
    "\n",
    "# 리뷰를 토픽별로 분류\n",
    "for review in reviews:\n",
    "    assigned_topic = False\n",
    "    for topic, keywords in topic_keywords.items():\n",
    "        if any(keyword in review for keyword in keywords):\n",
    "            topic_counts[topic] += 1\n",
    "            assigned_topic = True\n",
    "            break\n",
    "    if not assigned_topic:\n",
    "        topic_counts[\"기타\"] += 1\n",
    "        \n",
    "# 토픽별 리뷰 카운트 출력\n",
    "for topic, count in topic_counts.items():\n",
    "    print(f\"{topic}: {count}개\")"
   ]
  },
  {
   "cell_type": "code",
   "execution_count": null,
   "id": "622dd603",
   "metadata": {},
   "outputs": [],
   "source": []
  }
 ],
 "metadata": {
  "kernelspec": {
   "display_name": "Python 3 (ipykernel)",
   "language": "python",
   "name": "python3"
  },
  "language_info": {
   "codemirror_mode": {
    "name": "ipython",
    "version": 3
   },
   "file_extension": ".py",
   "mimetype": "text/x-python",
   "name": "python",
   "nbconvert_exporter": "python",
   "pygments_lexer": "ipython3",
   "version": "3.9.13"
  }
 },
 "nbformat": 4,
 "nbformat_minor": 5
}
